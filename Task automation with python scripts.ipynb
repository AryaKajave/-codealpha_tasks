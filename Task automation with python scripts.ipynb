{
 "cells": [
  {
   "cell_type": "code",
   "execution_count": null,
   "metadata": {},
   "outputs": [
    {
     "name": "stdout",
     "output_type": "stream",
     "text": [
      "Moved hangman0.png to Images\n",
      "Moved hangman1.png to Images\n",
      "Moved hangman2.png to Images\n",
      "Moved hangman3.png to Images\n",
      "Moved hangman4.png to Images\n",
      "Moved hangman5.png to Images\n",
      "Moved hangman6.png to Images\n"
     ]
    }
   ],
   "source": [
    "import os\n",
    "import shutil\n",
    "\n",
    "dir_path = 'path of directory'\n",
    "file_extensions = {\n",
    "    'Documents': ['.pdf', '.docx', '.txt'],\n",
    "    'Images': ['.jpg', '.png', '.gif'],\n",
    "    'Videos': ['.mp4', '.avi', '.mov'],\n",
    "    'Audio': ['.mp3', '.wav', '.ogg']\n",
    "}\n",
    "\n",
    "for folder in file_extensions:\n",
    "    folder_path = os.path.join(dir_path, folder)\n",
    "    if not os.path.exists(folder_path):\n",
    "        os.makedirs(folder_path)\n",
    "\n",
    "for filename in os.listdir(dir_path):\n",
    "    file_path = os.path.join(dir_path, filename)\n",
    "    if os.path.isfile(file_path):\n",
    "        file_ext = os.path.splitext(filename)[1].lower()\n",
    "        for folder, exts in file_extensions.items():\n",
    "            if file_ext in exts:\n",
    "                shutil.move(file_path, os.path.join(dir_path, folder))\n",
    "                print(f\"Moved {filename} to {folder}\")\n",
    "                break\n"
   ]
  },
  {
   "cell_type": "code",
   "execution_count": null,
   "metadata": {},
   "outputs": [],
   "source": []
  }
 ],
 "metadata": {
  "kernelspec": {
   "display_name": "Python 3",
   "language": "python",
   "name": "python3"
  },
  "language_info": {
   "codemirror_mode": {
    "name": "ipython",
    "version": 3
   },
   "file_extension": ".py",
   "mimetype": "text/x-python",
   "name": "python",
   "nbconvert_exporter": "python",
   "pygments_lexer": "ipython3",
   "version": "3.13.1"
  }
 },
 "nbformat": 4,
 "nbformat_minor": 2
}
